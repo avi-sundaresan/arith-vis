{
 "cells": [
  {
   "cell_type": "code",
   "execution_count": 13,
   "metadata": {
    "executionInfo": {
     "elapsed": 356,
     "status": "ok",
     "timestamp": 1617689920822,
     "user": {
      "displayName": "Avirath Sundaresan",
      "photoUrl": "https://lh3.googleusercontent.com/a-/AOh14GiRKhd8fNtzu7xK-E9tkEM9SSeAFv79Uix4sGxdEg=s64",
      "userId": "12623888628319777794"
     },
     "user_tz": 420
    },
    "id": "hRtJiNHJ9uFr"
   },
   "outputs": [],
   "source": [
    "import sys\n",
    "import random\n",
    "import string\n",
    "import matplotlib.pyplot as plt\n",
    "import math\n",
    "import os\n",
    "\n",
    "from tqdm import tqdm\n",
    "import decimal\n",
    "from decimal import Decimal\n",
    "\n",
    "decimal.getcontext().prec=500"
   ]
  },
  {
   "cell_type": "code",
   "execution_count": 23,
   "metadata": {
    "executionInfo": {
     "elapsed": 426,
     "status": "ok",
     "timestamp": 1617689944619,
     "user": {
      "displayName": "Avirath Sundaresan",
      "photoUrl": "https://lh3.googleusercontent.com/a-/AOh14GiRKhd8fNtzu7xK-E9tkEM9SSeAFv79Uix4sGxdEg=s64",
      "userId": "12623888628319777794"
     },
     "user_tz": 420
    },
    "id": "zP2emDA0CK-2"
   },
   "outputs": [],
   "source": [
    "MAIN_PATH = \"arith-vis/\"\n",
    "FASTA_PATH = MAIN_PATH + \"hbb_fasta/\"\n",
    "SAVE_PATH = MAIN_PATH + \"visualizations/\""
   ]
  },
  {
   "cell_type": "code",
   "execution_count": 15,
   "metadata": {
    "executionInfo": {
     "elapsed": 935,
     "status": "ok",
     "timestamp": 1617689945131,
     "user": {
      "displayName": "Avirath Sundaresan",
      "photoUrl": "https://lh3.googleusercontent.com/a-/AOh14GiRKhd8fNtzu7xK-E9tkEM9SSeAFv79Uix4sGxdEg=s64",
      "userId": "12623888628319777794"
     },
     "user_tz": 420
    },
    "id": "6nff82ElBEGn"
   },
   "outputs": [],
   "source": [
    "def remove_trailing_zeros(num):\n",
    "    strnum = str(num)\n",
    "    if num == 0:\n",
    "        return(num)\n",
    "    else:\n",
    "        if strnum[len(strnum)-1] == \"0\":\n",
    "            return remove_trailing_zeros(Decimal(strnum[:len(strnum)-1]))\n",
    "\n",
    "        else:\n",
    "            return(Decimal(strnum))\n",
    "\n",
    "#calculates entropy given probability table (max entropy is 2*k, that is, a 2-bit encoding)\n",
    "def calc_entropy(probs):\n",
    "    entropy = 0\n",
    "    for p in probs:\n",
    "        if p!=0:\n",
    "            entropy = entropy - p*Decimal(math.log2(p))\n",
    "    return round(entropy, 8)\n"
   ]
  },
  {
   "cell_type": "code",
   "execution_count": 16,
   "metadata": {
    "executionInfo": {
     "elapsed": 933,
     "status": "ok",
     "timestamp": 1617689945132,
     "user": {
      "displayName": "Avirath Sundaresan",
      "photoUrl": "https://lh3.googleusercontent.com/a-/AOh14GiRKhd8fNtzu7xK-E9tkEM9SSeAFv79Uix4sGxdEg=s64",
      "userId": "12623888628319777794"
     },
     "user_tz": 420
    },
    "id": "Kf2VZ4k4CDi9"
   },
   "outputs": [],
   "source": [
    "def open_FASTA(filename):\n",
    "    file = open(filename, 'r')\n",
    "    next(file)\n",
    "    return file.read().replace(\"\\n\", \"\") "
   ]
  },
  {
   "cell_type": "code",
   "execution_count": 17,
   "metadata": {
    "executionInfo": {
     "elapsed": 931,
     "status": "ok",
     "timestamp": 1617689945132,
     "user": {
      "displayName": "Avirath Sundaresan",
      "photoUrl": "https://lh3.googleusercontent.com/a-/AOh14GiRKhd8fNtzu7xK-E9tkEM9SSeAFv79Uix4sGxdEg=s64",
      "userId": "12623888628319777794"
     },
     "user_tz": 420
    },
    "id": "R82Ku_8iB2ef"
   },
   "outputs": [],
   "source": [
    "# Function to convert decimal to binary  \n",
    "def decimalToBinary(num, cutoff) : \n",
    "  \n",
    "    binary = \"\"  \n",
    "  \n",
    "    # Fetch the integral part of \n",
    "    # decimal number  \n",
    "    Integral = int(num)  \n",
    "  \n",
    "    # Fetch the fractional part  \n",
    "    # decimal number  \n",
    "    fractional = num - Integral \n",
    "  \n",
    "    # Conversion of integral part to  \n",
    "    # binary equivalent  \n",
    "    while (Integral) : \n",
    "          \n",
    "        rem = Integral % 2\n",
    "  \n",
    "        # Append 0 in binary  \n",
    "        binary += str(rem);  \n",
    "  \n",
    "        Integral //= 2\n",
    "      \n",
    "    # Reverse string to get original \n",
    "    # binary equivalent  \n",
    "    binary = binary[ : : -1]  \n",
    "  \n",
    "    # Append point before conversion  \n",
    "    # of fractional part  \n",
    "    binary += '.'\n",
    "  \n",
    "    # Conversion of fractional part \n",
    "    # to binary equivalent  \n",
    "    done = False\n",
    "    counter = 0\n",
    "    while (not done) : \n",
    "        counter+=1\n",
    "        # Find next bit in fraction  \n",
    "        fractional *= 2\n",
    "        fract_bit = int(fractional) \n",
    "  \n",
    "        if (fract_bit == 1) : \n",
    "              \n",
    "            fractional -= fract_bit  \n",
    "            binary += '1'\n",
    "              \n",
    "        else : \n",
    "            binary += '0'\n",
    "  \n",
    "        if(fractional==0 or counter>cutoff):\n",
    "            done = True\n",
    "            #print(fractional, fract_bit)\n",
    "            #print(counter)\n",
    "  \n",
    "    return binary  "
   ]
  },
  {
   "cell_type": "code",
   "execution_count": 18,
   "metadata": {
    "executionInfo": {
     "elapsed": 927,
     "status": "ok",
     "timestamp": 1617689945133,
     "user": {
      "displayName": "Avirath Sundaresan",
      "photoUrl": "https://lh3.googleusercontent.com/a-/AOh14GiRKhd8fNtzu7xK-E9tkEM9SSeAFv79Uix4sGxdEg=s64",
      "userId": "12623888628319777794"
     },
     "user_tz": 420
    },
    "id": "32HybA7dB89v"
   },
   "outputs": [],
   "source": [
    "def binary_vis(seq):\n",
    "    x_values = []\n",
    "    y_values = []\n",
    "    running_y = 0\n",
    "    for i in range(0, len(seq)):\n",
    "        if seq[i]=='0':\n",
    "            running_y-=1\n",
    "        elif seq[i]=='1':\n",
    "            running_y+=1\n",
    "        x_values.append(i+0.5)\n",
    "        y_values.append(running_y)\n",
    "    return x_values, y_values"
   ]
  },
  {
   "cell_type": "code",
   "execution_count": 19,
   "metadata": {
    "executionInfo": {
     "elapsed": 423,
     "status": "ok",
     "timestamp": 1617689945517,
     "user": {
      "displayName": "Avirath Sundaresan",
      "photoUrl": "https://lh3.googleusercontent.com/a-/AOh14GiRKhd8fNtzu7xK-E9tkEM9SSeAFv79Uix4sGxdEg=s64",
      "userId": "12623888628319777794"
     },
     "user_tz": 420
    },
    "id": "eB31u-Qb92Kp"
   },
   "outputs": [],
   "source": [
    "#returns nucleotide base given a number 1-4\n",
    "def get_bp(i):\n",
    "    s = \"\"\n",
    "    if i==1:\n",
    "        s = \"A\"\n",
    "    elif i==2: \n",
    "        s = \"T\"\n",
    "    elif i==3:\n",
    "        s = \"C\"\n",
    "    elif i==4:\n",
    "        s = \"G\"\n",
    "    return s\n",
    "\n",
    "#recursively creates empty kmer frequency table given k \n",
    "def get_kftable(freq_table, k):\n",
    "    if k==0:\n",
    "        return freq_table\n",
    "    else:\n",
    "        new_freq_table = {}\n",
    "        if len(freq_table) == 0:\n",
    "            new_freq_table = {\"A\": 0, \"T\": 0, \"C\": 0, \"G\": 0}\n",
    "        else:\n",
    "            \n",
    "            for key in freq_table:\n",
    "                for i in range(1,5): #from 1-4\n",
    "                    new_key = key + get_bp(i)\n",
    "                    new_freq_table.update( {new_key : 0})\n",
    "        return get_kftable(new_freq_table, k-1)\n",
    "\n",
    "#counts the amount of kmers in a particular DNA sequence (kmers are counted with slide by default)\n",
    "def count_kmers(seq, k, sliding=True):\n",
    "    freq_table = {}\n",
    "    \n",
    "    freq_table = get_kftable(freq_table, k)      \n",
    "    j = 0\n",
    "    total = 0\n",
    "    if sliding: \n",
    "        j = 1\n",
    "        total = len(seq)-k+1\n",
    "    else: \n",
    "        j = k\n",
    "        total = Decimal(int(len(seq)/k))\n",
    "                \n",
    "    for i in range(0, len(seq)-k+1, j):\n",
    "        #print(seq[i:i+k])\n",
    "        if seq[i:i+k] in freq_table.keys():\n",
    "            freq_table[seq[i:i+k]]+=1\n",
    "            \n",
    "    prev = Decimal(0)\n",
    "    new = Decimal(0)\n",
    "    probs = []\n",
    "    for key in freq_table:\n",
    "        probs.append(remove_trailing_zeros(round(Decimal(freq_table[key])/(total), 8)))\n",
    "        new = prev + remove_trailing_zeros(round(Decimal(freq_table[key])/(total), 8))\n",
    "        freq_table[key] = [prev, new]\n",
    "        prev = new\n",
    "    return freq_table, probs\n",
    "\n",
    "def kmer_encode(encode_str, freq_table, k, sliding=True):\n",
    "    # probability table\n",
    "    \n",
    "    #for key, value in sorted(freq_table.items()):\n",
    "        #print(key, value)\n",
    "\n",
    "    lower_bound = 0  # upper bound\n",
    "    upper_bound = 1  # lower bound\n",
    "    \n",
    "    j = 0\n",
    "    \n",
    "    if sliding: \n",
    "        j = 1\n",
    "    else: \n",
    "        j = k\n",
    "        \n",
    "    # go thru every symbol in the string\n",
    "    for i in range(0, len(encode_str)-k+1, j):\n",
    "        sym = encode_str[i:i+k]\n",
    "        if sym in freq_table:\n",
    "            curr_range = upper_bound - lower_bound  # current range\n",
    "            upper_bound = remove_trailing_zeros(lower_bound + (curr_range * freq_table[sym][1]))   # upper_bound\n",
    "            lower_bound = remove_trailing_zeros(lower_bound + (curr_range * freq_table[sym][0]))   # lower bound\n",
    "\n",
    "    return lower_bound"
   ]
  },
  {
   "cell_type": "code",
   "execution_count": 20,
   "metadata": {
    "colab": {
     "base_uri": "https://localhost:8080/"
    },
    "executionInfo": {
     "elapsed": 5457,
     "status": "ok",
     "timestamp": 1604539387264,
     "user": {
      "displayName": "Avirath Sundaresan",
      "photoUrl": "https://lh3.googleusercontent.com/a-/AOh14GiRKhd8fNtzu7xK-E9tkEM9SSeAFv79Uix4sGxdEg=s64",
      "userId": "12623888628319777794"
     },
     "user_tz": 480
    },
    "id": "glFBUotiBK6H",
    "outputId": "4e406138-f920-4a2c-e156-7fa0bf6a2a1b"
   },
   "outputs": [
    {
     "name": "stdout",
     "output_type": "stream",
     "text": [
      "alpaca_hbb  - Entropy (BPS): 5.82497594 Length of OG String: 1512 Expected Length of Bitstring: 8807.36362128\n",
      "bat_hbb  - Entropy (BPS): 5.76415556 Length of OG String: 1594 Expected Length of Bitstring: 9188.06396264\n",
      "chinchilla_hbb  - Entropy (BPS): 5.78328024 Length of OG String: 1352 Expected Length of Bitstring: 7818.99488448\n",
      "cow_hbb  - Entropy (BPS): 5.80250822 Length of OG String: 1643 Expected Length of Bitstring: 9533.52100546\n",
      "dog_hbb  - Entropy (BPS): 5.75479039 Length of OG String: 1360 Expected Length of Bitstring: 7826.51493040\n",
      "goat_hbb  - Entropy (BPS): 5.80322531 Length of OG String: 1568 Expected Length of Bitstring: 9099.45728608\n",
      "human_hbb  - Entropy (BPS): 5.74750343 Length of OG String: 1608 Expected Length of Bitstring: 9241.98551544\n",
      "norwayrat_hbb  - Entropy (BPS): 5.71684891 Length of OG String: 1412 Expected Length of Bitstring: 8072.19066092\n",
      "pelican_hbb  - Entropy (BPS): 5.76030685 Length of OG String: 1683 Expected Length of Bitstring: 9694.59642855\n",
      "pig_hbb  - Entropy (BPS): 5.79686816 Length of OG String: 1259 Expected Length of Bitstring: 7298.25701344\n",
      "pike_hbb  - Entropy (BPS): 5.86733222 Length of OG String: 1044 Expected Length of Bitstring: 6125.49483768\n",
      "polarbear_hbb  - Entropy (BPS): 5.75888446 Length of OG String: 1400 Expected Length of Bitstring: 8062.43824400\n",
      "rhesus_hbb  - Entropy (BPS): 5.71583695 Length of OG String: 1460 Expected Length of Bitstring: 8345.12194700\n"
     ]
    }
   ],
   "source": [
    "filenames0 = os.listdir(FASTA_PATH)\n",
    "filenames = []\n",
    "for file in filenames0:\n",
    "    if '.DS_Store' != file:\n",
    "        filenames.append(file)\n",
    "filenames.sort()\n",
    "\n",
    "k = 3\n",
    "SLIDING = True\n",
    "\n",
    "for file in filenames:\n",
    "    seq = open_FASTA(FASTA_PATH+file)\n",
    "    freq_table = count_kmers(seq, k, SLIDING)[0] \n",
    "    encoded = kmer_encode(seq, freq_table, 3, SLIDING)\n",
    "    \n",
    "    entropy = calc_entropy(count_kmers(seq, 3, SLIDING)[1])\n",
    "    print(file.split('.')[0], \" - Entropy (BPS):\", entropy, \"Length of OG String:\", len(seq), \"Expected Length of Bitstring:\", entropy*len(seq))\n",
    "    bin_encoded = decimalToBinary(encoded, math.ceil(entropy*len(seq)))\n",
    "    \n",
    "    x_vals, y_vals = binary_vis(str(bin_encoded)[1:len(str(bin_encoded))])\n",
    "    x_vals = [x/len(x_vals) for x in x_vals]\n",
    "    plt.plot(x_vals, y_vals, color = 'black')\n",
    "\n",
    "    # print(freq_table)\n",
    "    \n",
    "    save_filename= file.split('.')[0]+\"_sliding_3mer\"\n",
    "    plt.savefig(SAVE_PATH+save_filename)\n",
    "    plt.close()"
   ]
  },
  {
   "cell_type": "code",
   "execution_count": 24,
   "metadata": {
    "colab": {
     "base_uri": "https://localhost:8080/",
     "height": 68
    },
    "executionInfo": {
     "elapsed": 2630,
     "status": "ok",
     "timestamp": 1601860418466,
     "user": {
      "displayName": "Avirath Sundaresan",
      "photoUrl": "https://lh3.googleusercontent.com/a-/AOh14GiRKhd8fNtzu7xK-E9tkEM9SSeAFv79Uix4sGxdEg=s64",
      "userId": "12623888628319777794"
     },
     "user_tz": 420
    },
    "id": "EfV64mCuHuSv",
    "outputId": "d066e5b4-d414-4c56-903e-38c908bd99d0"
   },
   "outputs": [
    {
     "name": "stdout",
     "output_type": "stream",
     "text": [
      "covid  - Entropy (BPS): 5.80047300 Length of OG String: 29903 Expected Length of Bitstring: 173451.54411900\n",
      "mers  - Entropy (BPS): 5.87481175 Length of OG String: 30119 Expected Length of Bitstring: 176943.45509825\n",
      "AT  - Entropy (BPS): 1.00101732 Length of OG String: 30119 Expected Length of Bitstring: 30149.64066108\n"
     ]
    }
   ],
   "source": [
    "k = 3\n",
    "SLIDING = True\n",
    "\n",
    "file1 = \"covid.fasta.txt\"\n",
    "file2 = \"mers.fasta.txt\"\n",
    "file3 = \"AT.fasta.txt\"\n",
    "\n",
    "seq1 = open_FASTA(GENOME_PATH+file1)\n",
    "freq_table1 = count_kmers(seq1, k, SLIDING)[0] \n",
    "encoded1 = kmer_encode(seq1, freq_table1, 3, SLIDING)\n",
    "\n",
    "seq2 = open_FASTA(GENOME_PATH+file2)\n",
    "freq_table2 = count_kmers(seq2, k, SLIDING)[0] \n",
    "encoded2 = kmer_encode(seq2, freq_table2, 3, SLIDING)\n",
    "\n",
    "seq3 = open_FASTA(GENOME_PATH+file3)\n",
    "freq_table3 = count_kmers(seq3, k, SLIDING)[0] \n",
    "encoded3 = kmer_encode(seq3, freq_table3, 3, SLIDING)\n",
    "\n",
    "entropy1 = calc_entropy(count_kmers(seq1, 3, SLIDING)[1])\n",
    "entropy2 = calc_entropy(count_kmers(seq2, 3, SLIDING)[1])\n",
    "entropy3 = calc_entropy(count_kmers(seq3, 3, SLIDING)[1])\n",
    "\n",
    "print(file1.split('.')[0], \" - Entropy (BPS):\", entropy1, \"Length of OG String:\", len(seq1), \"Expected Length of Bitstring:\", entropy1*len(seq1))\n",
    "print(file2.split('.')[0], \" - Entropy (BPS):\", entropy2, \"Length of OG String:\", len(seq2), \"Expected Length of Bitstring:\", entropy2*len(seq2))\n",
    "print(file3.split('.')[0], \" - Entropy (BPS):\", entropy3, \"Length of OG String:\", len(seq3), \"Expected Length of Bitstring:\", entropy3*len(seq3))\n",
    "\n",
    "bin_encoded1 = decimalToBinary(encoded1, math.ceil(entropy1*len(seq1)))\n",
    "bin_encoded2 = decimalToBinary(encoded2, math.ceil(entropy2*len(seq2)))\n",
    "bin_encoded3 = decimalToBinary(encoded3, math.ceil(entropy3*len(seq3)))\n",
    "\n",
    "x_vals1, y_vals1 = binary_vis(str(bin_encoded1)[1:len(str(bin_encoded1))])\n",
    "x_vals2, y_vals2 = binary_vis(str(bin_encoded2)[1:len(str(bin_encoded2))])\n",
    "x_vals3, y_vals3 = binary_vis(str(bin_encoded3)[1:len(str(bin_encoded3))])\n",
    "\n",
    "x_vals1 = [x/len(x_vals2) for x in x_vals1]\n",
    "x_vals2 = [x/len(x_vals2) for x in x_vals2]\n",
    "x_vals3 = [x/len(x_vals2) for x in x_vals3]\n",
    "\n",
    "plt.plot(x_vals1, y_vals1, color = 'red')\n",
    "plt.plot(x_vals2, y_vals2, color = 'green')\n",
    "plt.plot(x_vals3, y_vals3, color = 'blue')\n",
    "\n",
    "save_filename= \"no_scale_3way-comparison\"\n",
    "plt.savefig(SAVE_PATH+save_filename)\n",
    "plt.close()\n",
    "\n"
   ]
  },
  {
   "cell_type": "code",
   "execution_count": 26,
   "metadata": {
    "colab": {
     "base_uri": "https://localhost:8080/",
     "height": 105
    },
    "executionInfo": {
     "elapsed": 2714,
     "status": "ok",
     "timestamp": 1601863369459,
     "user": {
      "displayName": "Avirath Sundaresan",
      "photoUrl": "https://lh3.googleusercontent.com/a-/AOh14GiRKhd8fNtzu7xK-E9tkEM9SSeAFv79Uix4sGxdEg=s64",
      "userId": "12623888628319777794"
     },
     "user_tz": 420
    },
    "id": "zi6BPomZXQ8A",
    "outputId": "1e9ce824-eafa-4bac-e937-3246f8d19311"
   },
   "outputs": [
    {
     "name": "stdout",
     "output_type": "stream",
     "text": [
      "covid  - Entropy (BPS): 5.80047300 Length of OG String: 29903 Expected Length of Bitstring: 173451.54411900\n",
      "mers  - Entropy (BPS): 5.87481175 Length of OG String: 30119 Expected Length of Bitstring: 176943.45509825\n",
      "AT  - Entropy (BPS): 1.00101732 Length of OG String: 30119 Expected Length of Bitstring: 30149.64066108\n"
     ]
    }
   ],
   "source": [
    "k = 3\n",
    "SLIDING = True\n",
    "\n",
    "file1 = \"covid.fasta.txt\"\n",
    "file2 = \"mers.fasta.txt\"\n",
    "file3 = \"AT.fasta.txt\"\n",
    "\n",
    "seq1 = open_FASTA(GENOME_PATH+file1)\n",
    "seq2 = open_FASTA(GENOME_PATH+file2)\n",
    "seq3 = open_FASTA(GENOME_PATH+file3)\n",
    "\n",
    "freq_table, probs = count_kmers(seq1+seq2+seq3, k, SLIDING)\n",
    "\n",
    "encoded1 = kmer_encode(seq1, freq_table, 3, SLIDING)\n",
    "encoded2 = kmer_encode(seq2, freq_table, 3, SLIDING)\n",
    "encoded3 = kmer_encode(seq3, freq_table, 3, SLIDING)\n",
    "\n",
    "entropy1 = calc_entropy(count_kmers(seq1, 3, SLIDING)[1])\n",
    "entropy2 = calc_entropy(count_kmers(seq2, 3, SLIDING)[1])\n",
    "entropy3 = calc_entropy(count_kmers(seq3, 3, SLIDING)[1])\n",
    "\n",
    "# print(freq_table)\n",
    "\n",
    "print(file1.split('.')[0], \" - Entropy (BPS):\", entropy1, \"Length of OG String:\", len(seq1), \"Expected Length of Bitstring:\", entropy1*len(seq1))\n",
    "print(file2.split('.')[0], \" - Entropy (BPS):\", entropy2, \"Length of OG String:\", len(seq2), \"Expected Length of Bitstring:\", entropy2*len(seq2))\n",
    "print(file3.split('.')[0], \" - Entropy (BPS):\", entropy3, \"Length of OG String:\", len(seq3), \"Expected Length of Bitstring:\", entropy3*len(seq3))\n",
    "\n",
    "bin_encoded1 = decimalToBinary(encoded1, math.ceil(entropy1*len(seq1)))\n",
    "bin_encoded2 = decimalToBinary(encoded2, math.ceil(entropy2*len(seq2)))\n",
    "bin_encoded3 = decimalToBinary(encoded3, math.ceil(entropy3*len(seq3)))\n",
    "\n",
    "x_vals1, y_vals1 = binary_vis(str(bin_encoded1)[1:len(str(bin_encoded1))])\n",
    "x_vals2, y_vals2 = binary_vis(str(bin_encoded2)[1:len(str(bin_encoded2))])\n",
    "x_vals3, y_vals3 = binary_vis(str(bin_encoded3)[1:len(str(bin_encoded3))])\n",
    "\n",
    "#x_vals1 = [x/len(x_vals2) for x in x_vals1]\n",
    "#x_vals2 = [x/len(x_vals2) for x in x_vals2]\n",
    "#x_vals3 = [x/len(x_vals2) for x in x_vals3]\n",
    "\n",
    "plt.plot(x_vals1, y_vals1, color = 'red')\n",
    "plt.plot(x_vals2, y_vals2, color = 'green')\n",
    "plt.plot(x_vals3, y_vals3, color = 'blue')\n",
    "\n",
    "save_filename= \"combined_freq_3way-comparison\"\n",
    "plt.savefig(SAVE_PATH+save_filename)\n",
    "plt.close()\n"
   ]
  },
  {
   "cell_type": "code",
   "execution_count": 27,
   "metadata": {
    "colab": {
     "base_uri": "https://localhost:8080/",
     "height": 275
    },
    "executionInfo": {
     "elapsed": 4669,
     "status": "ok",
     "timestamp": 1601863992790,
     "user": {
      "displayName": "Avirath Sundaresan",
      "photoUrl": "https://lh3.googleusercontent.com/a-/AOh14GiRKhd8fNtzu7xK-E9tkEM9SSeAFv79Uix4sGxdEg=s64",
      "userId": "12623888628319777794"
     },
     "user_tz": 420
    },
    "id": "Y_QKQD8KgSho",
    "outputId": "c8dd4cba-18ee-49ec-9f62-5f00ffdf047f"
   },
   "outputs": [],
   "source": [
    "k = 3\n",
    "SLIDING = True\n",
    "\n",
    "file1 = \"covid.fasta.txt\"\n",
    "file2 = \"mers.fasta.txt\"\n",
    "file3 = \"AT.fasta.txt\"\n",
    "\n",
    "seq1 = open_FASTA(GENOME_PATH+file1)\n",
    "seq2 = open_FASTA(GENOME_PATH+file2)\n",
    "seq3 = open_FASTA(GENOME_PATH+file3)\n",
    "\n",
    "freq_table, probs = count_kmers(seq1+seq2+seq3, k, SLIDING)\n",
    "# freq_table, probs = count_kmers(seq3+seq2+seq1, k, SLIDING)\n",
    "# print(freq_table, probs)\n",
    "\n",
    "encoded1 = kmer_encode(seq1, freq_table, 3, SLIDING)\n",
    "encoded2 = kmer_encode(seq2, freq_table, 3, SLIDING)\n",
    "encoded3 = kmer_encode(seq3, freq_table, 3, SLIDING)\n",
    "\n",
    "entropy1 = calc_entropy(count_kmers(seq1, 3, SLIDING)[1])\n",
    "entropy2 = calc_entropy(count_kmers(seq2, 3, SLIDING)[1])\n",
    "entropy3 = calc_entropy(count_kmers(seq3, 3, SLIDING)[1])\n",
    "\n",
    "bin_encoded1 = decimalToBinary(encoded1, math.ceil(entropy1*len(seq1)))\n",
    "bin_encoded2 = decimalToBinary(encoded2, math.ceil(entropy2*len(seq2)))\n",
    "bin_encoded3 = decimalToBinary(encoded3, math.ceil(entropy3*len(seq3)))\n",
    "\n",
    "x_vals1, y_vals1 = binary_vis(str(bin_encoded1)[1:len(str(bin_encoded1))])\n",
    "x_vals2, y_vals2 = binary_vis(str(bin_encoded2)[1:len(str(bin_encoded2))])\n",
    "x_vals3, y_vals3 = binary_vis(str(bin_encoded3)[1:len(str(bin_encoded3))])\n",
    "\n",
    "plt.plot(x_vals1, y_vals1, color = 'red')\n",
    "plt.plot(x_vals2, y_vals2, color = 'green')\n",
    "plt.plot(x_vals3, y_vals3, color = 'blue')\n",
    "plt.close()\n"
   ]
  },
  {
   "cell_type": "code",
   "execution_count": 28,
   "metadata": {
    "colab": {
     "base_uri": "https://localhost:8080/",
     "height": 353
    },
    "executionInfo": {
     "elapsed": 594,
     "status": "ok",
     "timestamp": 1617690252210,
     "user": {
      "displayName": "Avirath Sundaresan",
      "photoUrl": "https://lh3.googleusercontent.com/a-/AOh14GiRKhd8fNtzu7xK-E9tkEM9SSeAFv79Uix4sGxdEg=s64",
      "userId": "12623888628319777794"
     },
     "user_tz": 420
    },
    "id": "rTfNdHODUHZR",
    "outputId": "4c272545-1d98-4456-a068-caba85c1b95a"
   },
   "outputs": [
    {
     "data": {
      "text/plain": [
       "[<matplotlib.lines.Line2D at 0x11c79c130>]"
      ]
     },
     "execution_count": 28,
     "metadata": {},
     "output_type": "execute_result"
    },
    {
     "data": {
      "image/png": "[encoded data removed]",
      "text/plain": [
       "<Figure size 432x288 with 1 Axes>"
      ]
     },
     "metadata": {
      "needs_background": "light"
     },
     "output_type": "display_data"
    }
   ],
   "source": [
    "seq = \"AATGGCGGC\"\n",
    "freq_table, probs = count_kmers(seq, 3, sliding=False)\n",
    "encoded = kmer_encode(seq, freq_table, 3, sliding=False)\n",
    "# print(encoded)\n",
    "# print(freq_table)\n",
    "entropy = calc_entropy(count_kmers(seq, 3, sliding=False)[1])\n",
    "bin_encoded = decimalToBinary(encoded, math.ceil(entropy*len(seq)))\n",
    "# print(bin_encoded)\n",
    "x_vals, y_vals = binary_vis(str(bin_encoded)[1:len(str(bin_encoded))])\n",
    "plt.plot(x_vals, y_vals, color = 'green')"
   ]
  }
 ],
 "metadata": {
  "colab": {
   "authorship_tag": "ABX9TyPwnUd7monf0zhT4tyfOBB8",
   "collapsed_sections": [],
   "name": "DNAVis_Arith_Code.ipynb",
   "provenance": []
  },
  "kernelspec": {
   "display_name": "Python 3 (ipykernel)",
   "language": "python",
   "name": "python3"
  },
  "language_info": {
   "codemirror_mode": {
    "name": "ipython",
    "version": 3
   },
   "file_extension": ".py",
   "mimetype": "text/x-python",
   "name": "python",
   "nbconvert_exporter": "python",
   "pygments_lexer": "ipython3",
   "version": "3.8.9"
  }
 },
 "nbformat": 4,
 "nbformat_minor": 4
}
